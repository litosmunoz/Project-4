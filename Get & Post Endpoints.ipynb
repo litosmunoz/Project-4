{
 "cells": [
  {
   "cell_type": "markdown",
   "metadata": {},
   "source": [
    "GET & POST ENDPOINTS"
   ]
  },
  {
   "cell_type": "code",
   "execution_count": 17,
   "metadata": {},
   "outputs": [],
   "source": [
    "import requests"
   ]
  },
  {
   "cell_type": "markdown",
   "metadata": {},
   "source": [
    "GET"
   ]
  },
  {
   "cell_type": "code",
   "execution_count": 18,
   "metadata": {},
   "outputs": [
    {
     "data": {
      "text/plain": [
       "{'Likes': 11302,\n",
       " 'Retweets': 113429,\n",
       " 'Tweets': 'CB radios are free from govt/media control',\n",
       " 'day_': 27,\n",
       " 'month_': 1,\n",
       " 'year_': 2022}"
      ]
     },
     "execution_count": 18,
     "metadata": {},
     "output_type": "execute_result"
    }
   ],
   "source": [
    "all = requests.get('http://localhost:5000/all')\n",
    "all.json()[0]"
   ]
  },
  {
   "cell_type": "code",
   "execution_count": 19,
   "metadata": {},
   "outputs": [
    {
     "data": {
      "text/plain": [
       "[{'Total Tweets': 2669}]"
      ]
     },
     "execution_count": 19,
     "metadata": {},
     "output_type": "execute_result"
    }
   ],
   "source": [
    "count_tweets = requests.get('http://localhost:5000/total/tweets')\n",
    "count_tweets.json()"
   ]
  },
  {
   "cell_type": "code",
   "execution_count": 20,
   "metadata": {},
   "outputs": [
    {
     "data": {
      "text/plain": [
       "[{'AVG(Likes)': 5596.4601, 'AVG(Retweets)': 67576.8426}]"
      ]
     },
     "execution_count": 20,
     "metadata": {},
     "output_type": "execute_result"
    }
   ],
   "source": [
    "average = requests.get('http://localhost:5000/average')\n",
    "average.json()"
   ]
  },
  {
   "cell_type": "code",
   "execution_count": 21,
   "metadata": {},
   "outputs": [
    {
     "data": {
      "text/plain": [
       "{'Likes': 389069.0, 'month_': 1}"
      ]
     },
     "execution_count": 21,
     "metadata": {},
     "output_type": "execute_result"
    }
   ],
   "source": [
    "summary = requests.get('http://localhost:5000/summary')\n",
    "summary.json()['Likes per month'][0]"
   ]
  },
  {
   "cell_type": "code",
   "execution_count": 26,
   "metadata": {},
   "outputs": [
    {
     "data": {
      "text/plain": [
       "{'Tweets': 'Depends on what issues we see that are unique to Canada. If things are looking good, then we can lower the safety score threshold.'}"
      ]
     },
     "execution_count": 26,
     "metadata": {},
     "output_type": "execute_result"
    }
   ],
   "source": [
    "tweets_in_month_3 = requests.get('http://localhost:5000/tweets/3')\n",
    "tweets_in_month_3.json()[0]"
   ]
  },
  {
   "cell_type": "code",
   "execution_count": 27,
   "metadata": {},
   "outputs": [
    {
     "data": {
      "text/plain": [
       "[{'Tweets': 'Tesla merch can be bought with Doge, soon SpaceX merch too',\n",
       "  'polarity_score': {'compound': 0.0, 'neg': 0.0, 'neu': 1.0, 'pos': 0.0}}]"
      ]
     },
     "execution_count": 27,
     "metadata": {},
     "output_type": "execute_result"
    }
   ],
   "source": [
    "random_sentiment = requests.get('http://localhost:5000/sentiment/random')\n",
    "random_sentiment.json()"
   ]
  },
  {
   "cell_type": "code",
   "execution_count": 40,
   "metadata": {},
   "outputs": [
    {
     "data": {
      "text/plain": [
       "{' Yesss ': 0.0,\n",
       " 'Entering Twitter HQ â let that sink in': 0.0,\n",
       " 'For Twitter to deserve public trust, it must be politically neutral, which effectively means upsetting the far right and the far left equally': 0.4767,\n",
       " 'I hope that even my worst critics remain on Twitter, because that is what free speech means': -0.0258,\n",
       " 'If I die under mysterious circumstances, itâs been nice knowin ya': -0.2732,\n",
       " 'Letâs make Twitter maximum fun': 0.5106,\n",
       " 'Listen, I canât do miracles ok': 0.296,\n",
       " 'Next Iâm buying Coca-Cola to put the cocaine back in': 0.0,\n",
       " 'Starlink service is now active in Ukraine. More terminals en route.': 0.4019,\n",
       " 'The extreme antibody reaction from those who fear free speech says it all': 0.0258}"
      ]
     },
     "execution_count": 40,
     "metadata": {},
     "output_type": "execute_result"
    }
   ],
   "source": [
    "sentiment_top10_most_liked = requests.get('http://localhost:5000/sentiment/likes/top10')\n",
    "sentiment_top10_most_liked.json()"
   ]
  },
  {
   "cell_type": "code",
   "execution_count": 42,
   "metadata": {},
   "outputs": [
    {
     "data": {
      "text/html": [
       "<div>\n",
       "<style scoped>\n",
       "    .dataframe tbody tr th:only-of-type {\n",
       "        vertical-align: middle;\n",
       "    }\n",
       "\n",
       "    .dataframe tbody tr th {\n",
       "        vertical-align: top;\n",
       "    }\n",
       "\n",
       "    .dataframe thead th {\n",
       "        text-align: right;\n",
       "    }\n",
       "</style>\n",
       "<table border=\"1\" class=\"dataframe\">\n",
       "  <thead>\n",
       "    <tr style=\"text-align: right;\">\n",
       "      <th></th>\n",
       "      <th>0</th>\n",
       "    </tr>\n",
       "  </thead>\n",
       "  <tbody>\n",
       "    <tr>\n",
       "      <th>Yesss</th>\n",
       "      <td>0.0000</td>\n",
       "    </tr>\n",
       "    <tr>\n",
       "      <th>Entering Twitter HQ â let that sink in</th>\n",
       "      <td>0.0000</td>\n",
       "    </tr>\n",
       "    <tr>\n",
       "      <th>For Twitter to deserve public trust, it must be politically neutral, which effectively means upsetting the far right and the far left equally</th>\n",
       "      <td>0.4767</td>\n",
       "    </tr>\n",
       "    <tr>\n",
       "      <th>I hope that even my worst critics remain on Twitter, because that is what free speech means</th>\n",
       "      <td>-0.0258</td>\n",
       "    </tr>\n",
       "    <tr>\n",
       "      <th>If I die under mysterious circumstances, itâs been nice knowin ya</th>\n",
       "      <td>-0.2732</td>\n",
       "    </tr>\n",
       "    <tr>\n",
       "      <th>Letâs make Twitter maximum fun</th>\n",
       "      <td>0.5106</td>\n",
       "    </tr>\n",
       "    <tr>\n",
       "      <th>Listen, I canât do miracles ok</th>\n",
       "      <td>0.2960</td>\n",
       "    </tr>\n",
       "    <tr>\n",
       "      <th>Next Iâm buying Coca-Cola to put the cocaine back in</th>\n",
       "      <td>0.0000</td>\n",
       "    </tr>\n",
       "    <tr>\n",
       "      <th>Starlink service is now active in Ukraine. More terminals en route.</th>\n",
       "      <td>0.4019</td>\n",
       "    </tr>\n",
       "    <tr>\n",
       "      <th>The extreme antibody reaction from those who fear free speech says it all</th>\n",
       "      <td>0.0258</td>\n",
       "    </tr>\n",
       "  </tbody>\n",
       "</table>\n",
       "</div>"
      ],
      "text/plain": [
       "                                                         0\n",
       " Yesss                                              0.0000\n",
       "Entering Twitter HQ â let that sink in              0.0000\n",
       "For Twitter to deserve public trust, it must be...  0.4767\n",
       "I hope that even my worst critics remain on Twi... -0.0258\n",
       "If I die under mysterious circumstances, itâs b... -0.2732\n",
       "Letâs make Twitter maximum fun                      0.5106\n",
       "Listen, I canât do miracles ok                      0.2960\n",
       "Next Iâm buying Coca-Cola to put the cocaine ba...  0.0000\n",
       "Starlink service is now active in Ukraine. More...  0.4019\n",
       "The extreme antibody reaction from those who fe...  0.0258"
      ]
     },
     "execution_count": 42,
     "metadata": {},
     "output_type": "execute_result"
    }
   ],
   "source": [
    "lk = pd.DataFrame.from_dict(sentiment_top10_most_liked.json(), orient='index')\n",
    "lk"
   ]
  },
  {
   "cell_type": "code",
   "execution_count": 30,
   "metadata": {},
   "outputs": [
    {
     "data": {
      "text/plain": [
       "{' Yesss ': 0.0,\n",
       " 'Also, Iâm buying Manchester United ur welcome': 0.7003,\n",
       " 'As I was saying â': 0.0,\n",
       " 'Bidenâs mistake is that he thinks he was elected to transform the country, but actually everyone just wanted less drama': -0.1779,\n",
       " 'Chocolate milk is insanely good. Just had some.': 0.4404,\n",
       " 'Entering Twitter HQ â let that sink in': 0.0,\n",
       " 'For Twitter to deserve public trust, it must be politically neutral, which effectively means upsetting the far right and the far left equally': 0.4767,\n",
       " 'I hope that even my worst critics remain on Twitter, because that is what free speech means': -0.0258,\n",
       " 'I made an offer': 0.0,\n",
       " 'If I die under mysterious circumstances, itâs been nice knowin ya': -0.2732,\n",
       " 'Letâs make Twitter maximum fun': 0.5106,\n",
       " 'Listen, I canât do miracles ok': 0.296,\n",
       " 'Next Iâm buying Coca-Cola to put the cocaine back in': 0.0,\n",
       " 'Oh hi lol': 0.4215,\n",
       " 'Since Iâve been asked a lot:Buy stock in several companies that make products amp services that you believe in.Only sell if you think their products amp services are trending worse. Donât panic when the market does.This will serve you well in the long-term.': -0.6486,\n",
       " 'The extreme antibody reaction from those who fear free speech says it all': 0.0258,\n",
       " 'The far left hates everyone, themselves included': -0.4404,\n",
       " 'Twitter DMs should have end to end encryption like Signal, so no one can spy on or hack your messages': 0.0018,\n",
       " 'in case u need to lose a boner fast': -0.4019,\n",
       " 'iu': 0.0}"
      ]
     },
     "execution_count": 30,
     "metadata": {},
     "output_type": "execute_result"
    }
   ],
   "source": [
    "sentiment_top20_most_rt = requests.get('http://localhost:5000/sentiment/rt/top20')\n",
    "sentiment_top20_most_rt.json()"
   ]
  },
  {
   "cell_type": "code",
   "execution_count": 38,
   "metadata": {},
   "outputs": [
    {
     "data": {
      "text/html": [
       "<div>\n",
       "<style scoped>\n",
       "    .dataframe tbody tr th:only-of-type {\n",
       "        vertical-align: middle;\n",
       "    }\n",
       "\n",
       "    .dataframe tbody tr th {\n",
       "        vertical-align: top;\n",
       "    }\n",
       "\n",
       "    .dataframe thead th {\n",
       "        text-align: right;\n",
       "    }\n",
       "</style>\n",
       "<table border=\"1\" class=\"dataframe\">\n",
       "  <thead>\n",
       "    <tr style=\"text-align: right;\">\n",
       "      <th></th>\n",
       "      <th>0</th>\n",
       "    </tr>\n",
       "  </thead>\n",
       "  <tbody>\n",
       "    <tr>\n",
       "      <th>Yesss</th>\n",
       "      <td>0.0000</td>\n",
       "    </tr>\n",
       "    <tr>\n",
       "      <th>Also, Iâm buying Manchester United ur welcome</th>\n",
       "      <td>0.7003</td>\n",
       "    </tr>\n",
       "    <tr>\n",
       "      <th>As I was saying â</th>\n",
       "      <td>0.0000</td>\n",
       "    </tr>\n",
       "    <tr>\n",
       "      <th>Bidenâs mistake is that he thinks he was elected to transform the country, but actually everyone just wanted less drama</th>\n",
       "      <td>-0.1779</td>\n",
       "    </tr>\n",
       "    <tr>\n",
       "      <th>Chocolate milk is insanely good. Just had some.</th>\n",
       "      <td>0.4404</td>\n",
       "    </tr>\n",
       "  </tbody>\n",
       "</table>\n",
       "</div>"
      ],
      "text/plain": [
       "                                                         0\n",
       " Yesss                                              0.0000\n",
       "Also, Iâm buying Manchester United ur welcome       0.7003\n",
       "As I was saying â                                   0.0000\n",
       "Bidenâs mistake is that he thinks he was electe... -0.1779\n",
       "Chocolate milk is insanely good. Just had some.     0.4404"
      ]
     },
     "execution_count": 38,
     "metadata": {},
     "output_type": "execute_result"
    }
   ],
   "source": [
    "rt = pd.DataFrame.from_dict(sentiment_top20_most_rt.json(), orient='index')\n",
    "rt.head()"
   ]
  },
  {
   "cell_type": "markdown",
   "metadata": {},
   "source": [
    "POST"
   ]
  },
  {
   "cell_type": "code",
   "execution_count": null,
   "metadata": {},
   "outputs": [],
   "source": [
    "headers = {'day_' : '12', 'month_' : '11', 'year_': '2023', 'Tweets' : 'Hello', 'Likes': '1333', 'Retweets': '1999'} \n",
    "requests.post('http://localhost:5000/post', params=headers)"
   ]
  },
  {
   "cell_type": "code",
   "execution_count": 28,
   "metadata": {},
   "outputs": [],
   "source": [
    "import pandas as pd"
   ]
  },
  {
   "cell_type": "code",
   "execution_count": 11,
   "metadata": {},
   "outputs": [],
   "source": [
    "df = pd.DataFrame(all.json())"
   ]
  },
  {
   "cell_type": "code",
   "execution_count": 13,
   "metadata": {},
   "outputs": [
    {
     "data": {
      "text/plain": [
       "Likes        1333\n",
       "Retweets     1999\n",
       "Tweets      Hello\n",
       "day_           12\n",
       "month_         11\n",
       "year_        2023\n",
       "Name: 2668, dtype: object"
      ]
     },
     "execution_count": 13,
     "metadata": {},
     "output_type": "execute_result"
    }
   ],
   "source": [
    "df.iloc[-1]"
   ]
  }
 ],
 "metadata": {
  "kernelspec": {
   "display_name": "Python 3.9.12 ('base')",
   "language": "python",
   "name": "python3"
  },
  "language_info": {
   "codemirror_mode": {
    "name": "ipython",
    "version": 3
   },
   "file_extension": ".py",
   "mimetype": "text/x-python",
   "name": "python",
   "nbconvert_exporter": "python",
   "pygments_lexer": "ipython3",
   "version": "3.9.12"
  },
  "orig_nbformat": 4,
  "vscode": {
   "interpreter": {
    "hash": "8e76f8642360a3358ab06c318ab18c1161224eb3836609d5c16edea6f6e43dba"
   }
  }
 },
 "nbformat": 4,
 "nbformat_minor": 2
}
