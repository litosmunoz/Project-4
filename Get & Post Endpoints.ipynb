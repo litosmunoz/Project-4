{
 "cells": [
  {
   "cell_type": "markdown",
   "metadata": {},
   "source": [
    "GET & POST ENDPOINTS"
   ]
  },
  {
   "cell_type": "code",
   "execution_count": 2,
   "metadata": {},
   "outputs": [],
   "source": [
    "import requests"
   ]
  },
  {
   "cell_type": "markdown",
   "metadata": {},
   "source": [
    "GET"
   ]
  },
  {
   "cell_type": "code",
   "execution_count": 3,
   "metadata": {},
   "outputs": [
    {
     "data": {
      "text/plain": [
       "{'Likes': 11302,\n",
       " 'Retweets': 113429,\n",
       " 'Tweets': 'CB radios are free from govt/media control',\n",
       " 'day_': 27,\n",
       " 'month_': 1,\n",
       " 'year_': 2022}"
      ]
     },
     "execution_count": 3,
     "metadata": {},
     "output_type": "execute_result"
    }
   ],
   "source": [
    "all = requests.get('http://localhost:5000/all')\n",
    "all.json()[0]"
   ]
  },
  {
   "cell_type": "code",
   "execution_count": 5,
   "metadata": {},
   "outputs": [
    {
     "data": {
      "text/plain": [
       "[{'Total Tweets': 2669}]"
      ]
     },
     "execution_count": 5,
     "metadata": {},
     "output_type": "execute_result"
    }
   ],
   "source": [
    "count_tweets = requests.get('http://localhost:5000/total/tweets')\n",
    "count_tweets.json()"
   ]
  },
  {
   "cell_type": "code",
   "execution_count": 6,
   "metadata": {},
   "outputs": [
    {
     "data": {
      "text/plain": [
       "[{'AVG(Likes)': 5596.4601, 'AVG(Retweets)': 67576.8426}]"
      ]
     },
     "execution_count": 6,
     "metadata": {},
     "output_type": "execute_result"
    }
   ],
   "source": [
    "average = requests.get('http://localhost:5000/average')\n",
    "average.json()"
   ]
  },
  {
   "cell_type": "code",
   "execution_count": 7,
   "metadata": {},
   "outputs": [
    {
     "data": {
      "text/plain": [
       "{'Likes': 389069.0, 'month_': 1}"
      ]
     },
     "execution_count": 7,
     "metadata": {},
     "output_type": "execute_result"
    }
   ],
   "source": [
    "summary = requests.get('http://localhost:5000/summary')\n",
    "summary.json()['Likes per month'][0]"
   ]
  },
  {
   "cell_type": "code",
   "execution_count": 8,
   "metadata": {},
   "outputs": [
    {
     "data": {
      "text/plain": [
       "[{'Tweets': 'Haha damn, maybe I should take off my shirt more often â free the nip already back in the factory btw',\n",
       "  'polarity_score': {'compound': 0.5965,\n",
       "   'neg': 0.107,\n",
       "   'neu': 0.633,\n",
       "   'pos': 0.26}}]"
      ]
     },
     "execution_count": 8,
     "metadata": {},
     "output_type": "execute_result"
    }
   ],
   "source": [
    "random_sentiment = requests.get('http://localhost:5000/sentiment/random')\n",
    "random_sentiment.json()"
   ]
  },
  {
   "cell_type": "code",
   "execution_count": 9,
   "metadata": {},
   "outputs": [
    {
     "data": {
      "text/plain": [
       "[0.0, -0.0258, 0.0, 0.296, 0.5106, 0.0258, -0.2732, 0.0, 0.4767, 0.4019]"
      ]
     },
     "execution_count": 9,
     "metadata": {},
     "output_type": "execute_result"
    }
   ],
   "source": [
    "sentiment_top10_tweets = requests.get('http://localhost:5000/sentiment/tweets/top10')\n",
    "sentiment_top10_tweets.json()"
   ]
  },
  {
   "cell_type": "markdown",
   "metadata": {},
   "source": [
    "POST"
   ]
  },
  {
   "cell_type": "code",
   "execution_count": null,
   "metadata": {},
   "outputs": [],
   "source": [
    "headers = {'day_' : '12', 'month_' : '11', 'year_': '2023', 'Tweets' : 'Hello', 'Likes': '1333', 'Retweets': '1999'} \n",
    "requests.post('http://localhost:5000/post', params=headers)"
   ]
  }
 ],
 "metadata": {
  "kernelspec": {
   "display_name": "Python 3.9.12 ('base')",
   "language": "python",
   "name": "python3"
  },
  "language_info": {
   "codemirror_mode": {
    "name": "ipython",
    "version": 3
   },
   "file_extension": ".py",
   "mimetype": "text/x-python",
   "name": "python",
   "nbconvert_exporter": "python",
   "pygments_lexer": "ipython3",
   "version": "3.9.12"
  },
  "orig_nbformat": 4,
  "vscode": {
   "interpreter": {
    "hash": "8e76f8642360a3358ab06c318ab18c1161224eb3836609d5c16edea6f6e43dba"
   }
  }
 },
 "nbformat": 4,
 "nbformat_minor": 2
}
